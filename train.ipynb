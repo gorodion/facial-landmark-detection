{
 "cells": [
  {
   "cell_type": "code",
   "execution_count": 1,
   "id": "9cc81b2d-9ad7-4b1e-9636-ad4981c5d7ce",
   "metadata": {},
   "outputs": [],
   "source": [
    "from utils import filter_img_paths, expand_box, read_pts\n",
    "from data import Dataset, make_loader\n",
    "from models import BaselineModel\n",
    "from metrics import calc_ced, count_ced_auc\n",
    "from config import DATA_DIR, LOG_DIR, N_EPOCHS, BATCH_SIZE\n",
    "\n",
    "%load_ext autoreload\n",
    "%autoreload 2"
   ]
  },
  {
   "cell_type": "code",
   "execution_count": 2,
   "id": "47d98be5-a797-414f-b57b-5bf14e712ff6",
   "metadata": {
    "id": "9wC0eztW87xR",
    "tags": []
   },
   "outputs": [],
   "source": [
    "import os.path\n",
    "from pathlib import Path\n",
    "\n",
    "TRAIN_PATH_300W = os.path.join(DATA_DIR, '300W/train')\n",
    "TRAIN_PATH_MENPO = os.path.join(DATA_DIR, 'Menpo/train')\n",
    "\n",
    "TEST_PATH_300W = os.path.join(DATA_DIR, '300W/test')\n",
    "TEST_PATH_MENPO = os.path.join(DATA_DIR, 'Menpo/test')"
   ]
  },
  {
   "cell_type": "code",
   "execution_count": 7,
   "id": "d2db8bf9-536a-4466-903e-d95909b472d4",
   "metadata": {},
   "outputs": [],
   "source": [
    "img_paths = filter_img_paths([Path(TRAIN_PATH_300W).glob('*.jpg'),\n",
    "              Path(TRAIN_PATH_300W).glob('*.png'),\n",
    "              Path(TRAIN_PATH_MENPO).glob('*.jpg')])"
   ]
  },
  {
   "cell_type": "code",
   "execution_count": 8,
   "id": "993dc281-7803-49a4-aac9-24ba3c6cd4a4",
   "metadata": {},
   "outputs": [],
   "source": [
    "test_paths = filter_img_paths([Path(TEST_PATH_MENPO).glob('*.jpg')], check_box=True)"
   ]
  },
  {
   "cell_type": "code",
   "execution_count": 9,
   "id": "5a9c32a4-a1db-405b-9059-46d7bebf8c72",
   "metadata": {
    "id": "sqdERuNAmS6f"
   },
   "outputs": [],
   "source": [
    "from sklearn.model_selection import train_test_split\n",
    "\n",
    "train_paths, val_paths = train_test_split(img_paths, test_size=0.2, random_state=0)"
   ]
  },
  {
   "cell_type": "code",
   "execution_count": 10,
   "id": "fe4317c5-67c7-48e0-9088-7b13fb8d0aca",
   "metadata": {
    "id": "xH9aHRZqaXTA"
   },
   "outputs": [],
   "source": [
    "train_ds, train_dl = make_loader(train_paths, mode='train', batch_size=BATCH_SIZE, num_workers=0, k=0.12)\n",
    "val_ds, val_dl = make_loader(val_paths, mode='val', batch_size=BATCH_SIZE, num_workers=0, k=0.12)\n",
    "test_ds, test_dl = make_loader(test_paths, mode='test', batch_size=BATCH_SIZE, num_workers=0, k=0.12)"
   ]
  },
  {
   "cell_type": "code",
   "execution_count": 11,
   "id": "ff7cfc46-d26b-48b6-9633-83057e795ef4",
   "metadata": {
    "id": "fyEixUJujaET"
   },
   "outputs": [
    {
     "name": "stdout",
     "output_type": "stream",
     "text": [
      "The autoreload extension is already loaded. To reload it, use:\n",
      "  %reload_ext autoreload\n"
     ]
    }
   ],
   "source": [
    "from runner import CustomRunner\n",
    "\n",
    "%load_ext autoreload\n",
    "%autoreload 2"
   ]
  },
  {
   "cell_type": "code",
   "execution_count": 62,
   "id": "5e63bbe9-b9ae-483f-9a37-0459a0d3aa16",
   "metadata": {},
   "outputs": [],
   "source": [
    "import torch\n",
    "import random\n",
    "import numpy as np\n",
    "from catalyst.utils import set_global_seed\n",
    "\n",
    "random.seed(0)\n",
    "np.random.seed(0)\n",
    "torch.manual_seed(0)\n",
    "torch.cuda.manual_seed(0)\n",
    "torch.backends.cudnn.deterministic = True\n",
    "set_global_seed(0)"
   ]
  },
  {
   "cell_type": "code",
   "execution_count": 63,
   "id": "d175d984-13a6-4ef4-b0eb-dc23835a308d",
   "metadata": {},
   "outputs": [],
   "source": [
    "model = BaselineModel()"
   ]
  },
  {
   "cell_type": "code",
   "execution_count": 64,
   "id": "e7342aa7-9bd4-48e0-944d-d19ae85b0908",
   "metadata": {},
   "outputs": [],
   "source": [
    "from torch import nn, optim\n",
    "from torch.optim.lr_scheduler import ReduceLROnPlateau\n",
    "\n",
    "runner = CustomRunner()\n",
    "\n",
    "criterion = nn.MSELoss()\n",
    "optimizer = optim.AdamW(model.parameters(), lr=1e-3, weight_decay=0.01)\n",
    "scheduler = ReduceLROnPlateau(optimizer, factor=0.5, patience=2)"
   ]
  },
  {
   "cell_type": "code",
   "execution_count": null,
   "id": "d5bd8b79-f02b-4b67-a4f1-788d33deae1a",
   "metadata": {
    "colab": {
     "base_uri": "https://localhost:8080/",
     "height": 1000,
     "referenced_widgets": [
      "62c4e015c75545e9b861fb8bc6be0ab8",
      "5620296040d44d7881109a16a4878663",
      "b9bf978ade7148deae1cc7d10af01579",
      "d3c2e961aaf842319997b972bea33e75",
      "bfebb9e1c32b4f419ac32d5431b5e40d",
      "97ebd91c23cb4736b1e3f95e19289048",
      "3ba543fb652c4018be469edee0c05e9b",
      "ee617f1e00c04e66bf14b652e461ec73",
      "f9586254a196451cab7970af5ba3ca4a",
      "ffa64c32bfcc4ca1a434bf4df91c42e0",
      "c2ddc30ee84c4dc89a7b74de85392898",
      "ba1e4e20a7c243a89bd125f2dd92c673",
      "8f454dd069374f7dbbe7da79676a0007",
      "9ee9f44084ba4abe83f19e53358d1da0",
      "71a116b75d48449898414daec8871e4f",
      "4a9bcb9fd07143d68ffe84fc3a92128b",
      "8be7491fda66429f87456cd4f984575a",
      "893168680ec54ee8949d8181097fcc54",
      "bf2033bb212c4b27a5a1d0f7b65eac70",
      "0ea4af553ec646d6a0b8ce22f285e97a",
      "700baa8a9f0348318a990e5d49af300b",
      "095d0de00db14b528269f6ca483201eb",
      "fb1304fc3eb140838f26fddb4d947a1a",
      "305a0aadc52c40f99cc756fed9a554f8",
      "ba65a5c5b0fa4d898f121dbf8a80a744",
      "fab9306756de4510892720280745138b",
      "133236427b8c4bcf8e500d9ca8248b93",
      "881b1eb9d1334f41aaa86725e8b44e3f",
      "c96ffeea0b5b4831887abd88f5019a66",
      "06057b66101049b4be36e108902adfed",
      "b522f1e171af4bc3a56b3526adef5a02",
      "466964fe09a24babb89d320252ef4d32",
      "0ea656b7512048e0b879447d341fdbbe",
      "02342428de8d4d668e86fc82b122dd23",
      "cd18978f68804823aa2b609c29dc0628",
      "3e489501bae94356bceb63b15a0a9724",
      "2537fad936d44edc8b5d547472a0d976",
      "6463c03804aa41838790b1fa806ea113",
      "d21700b6d80a4ac6854136cd9f621dd7",
      "744a18fec70c4344be1a06c716a4b6f8",
      "fc39bcec831a4bc9ae745437ae135d8a",
      "4ba0819ed0044b6c8cf1390c2ad76a72",
      "cbd9fad39f464d40bbabc392c7cad54f",
      "f5e0e6c62d14415f9ddf1611a6fbfe02",
      "6a76c0261686442e99796a1b0c84b5d9",
      "2db4f86793d94840bff2c6c76fdf0047",
      "de29543131464c9fabe8c601b82b50b5",
      "d8b13d3df96943698749338cc4e23190",
      "9ab99fee697e4d19865730352668ed78",
      "cb15f55c3b33421d8d581fa1a86d3653",
      "8552016c5c7b4638b408c8a397b14d1b",
      "931a2959ece04597a756a27c599dbb3d",
      "dadec3f478974a8687fa614c8c5c5cc3",
      "046f2f8aae25429ab8b920ff154cc42e",
      "5808f78cd9354165b2ead5d841ad2ab1",
      "ddec68ad34f94d14a4016215630ebfa6",
      "60db7fef472e4bb1a1c0d1b4eea0370c",
      "be9b17d9af224a1bb427df45c9ba9808",
      "3f124cdeafde4b73b6abf38f11bfed93",
      "5c1a1689727e4d128aca4bf36dfe4cf6",
      "75b2bb7620584c29ae4499f58345aee8",
      "dfdcbd07245a4974bebb37a86c407d66",
      "35f0a658f9a14c8190cf7a8b74a311b4",
      "766ee9387bba46008b217c07c0798ef7",
      "f95fa60a9085487fa7952ba2988e5e97",
      "25f3e2006ec94412bf66b31df870b181",
      "1205bf9946fa473c9689895b49b2b635",
      "5cf068b0f9ac4731ba7501dde2ee47ad",
      "2f7aad78b59b4e1baec5a1f64eb6624d",
      "d46d7a10deeb47f7b1b2a0c77a323492",
      "18ad1b5a915f42739c03cfaad8148029",
      "3eb413a073494721bd15e248d67b52ba",
      "f9d8fb9abc5a4e9eabac2c9b4fa902fd",
      "c9cc72f71aba4e76a422490182dad782",
      "55d09d9625f347c3b428e43c9a5f4efa",
      "11416fee7cd240219c152cc3a0209046",
      "c6974b90936a48e69aec9bb140f02a51",
      "9405e8c83e274e5fb26f037f30ef55d5",
      "2caf6f8b880d417bbda73e1732fca929",
      "bdf23373348d4b86918a22463f52a440",
      "7ef1b3715c944ba9aa26d55801b9f0da",
      "c88ccfb13cf94e829a983c6f1dbc81be",
      "19dc8d4223674d19b3917bd505f64e32",
      "c1ef2a53affa47b4a8b9fc87f0a01911",
      "550aab94b2fd4ad89c5015519e42af19",
      "31637ad13d8446b98bf9fea76e3b0166",
      "1ba46a36bf6a47e883d463cc481d0f92",
      "02abb575bb0144088939e9a61dbf793e",
      "d54cab420ffb4c16880ad3ae9d8d1eba",
      "093e9c891d054bac9e8ab1999b1328df",
      "67f683d050734e94bfe29a803a46a403",
      "e6d03831b4a44f53ab5a48a6ef5286f8",
      "12d6daaf1f1946678fde13bd6baa10c7",
      "179c450748be47f0b9e254041c16e54b",
      "c6de3b593c254241ba01f95d198be42b",
      "68a9603d2cfd4edcb1e84b9f57729136",
      "481d24d8aa4744b69eca75c8909686cb",
      "3fd7d61a68284224a33dbe5fd8079228",
      "1959f7b22b714c66b7f165e8a79435ec",
      "0a637298eab04664a08bdde1d112c114",
      "2036eb5cb7bc4d45a1c60837be94592e",
      "07c268ccdfa34671b80dec5672e5e844",
      "daefb32cd4184d0ab629da780e45ce66",
      "1ea0e3f151da4f1da875fc48c2b6b209",
      "8dbd783b36ef43fe8fb66d230f095671",
      "a23c0cc25e18474484e33031abcbf6e9",
      "03417cf745544bc195f89715e5b47282",
      "5a3aa98d1a0b4196a5f4a5694f410a3c",
      "aa5374acba9c48e498cbe5e0d415b1ba",
      "971f5f9db7e244eabe409dda21f04bfa",
      "902a0226126d49b69d920e9416c9c153",
      "cc536841e777448992dcee5e5e214fa9",
      "73d460c354d64e02a2fe2cdcf76469c9",
      "817260fc6a124da2b4692dcb5a102a37",
      "e80aa5bc29044c84874e31e2c3a63c46",
      "ce8fdbf199e143a090d3efd7d86cd302",
      "aa62c0e0f1ae4d9cbc050ce4a115e937",
      "d9631ba316b14533be73e70bbe60d496",
      "f35b759447114e4a84230306c60cb7d1",
      "179f3dc3263841eda44f64eea31e45f6",
      "5021d9b013074795af455d4dde7b13f4",
      "ab0df6e9275d4b428179d1a42a631ed9",
      "5154efbc4a2a4e00ab4831baa894517f",
      "4c9f883ef196410b83f6398d80990e78",
      "0cd7c2c2f7ec4496ba92e503b7d1af75",
      "320d76ceb90b4173ab0abf705fea4bb8",
      "f18c91f1cb004177b247edc516c8c34e",
      "b9b3d5de7fa748e38486658aaf006d46",
      "77d72764b3a44121b0340c9c356ff300",
      "93657f8321854680bbc59510595569ac",
      "60e7a8cec30b462eabda81f2538e80c5",
      "19cf499aae20465ba15f7fa652c55af4"
     ]
    },
    "id": "Ji-4Ipg6jDQZ",
    "outputId": "7a83567d-2b22-4131-94e5-eb69eda188ec",
    "scrolled": true,
    "tags": []
   },
   "outputs": [],
   "source": [
    "runner.train(\n",
    "    model=model,\n",
    "    criterion=criterion,\n",
    "    optimizer=optimizer,\n",
    "    scheduler=scheduler,\n",
    "    loaders={\n",
    "        \"train\": train_dl,\n",
    "        \"valid\": val_dl,\n",
    "        'infer': test_dl\n",
    "    },\n",
    "    num_epochs=N_EPOCHS,\n",
    "    logdir=LOG_DIR,\n",
    "    valid_loader=\"valid\",\n",
    "    valid_metric=\"loss\",\n",
    "    minimize_valid_metric=True,\n",
    "    verbose=True,\n",
    "    # fp16=True,\n",
    "    # check=True\n",
    ")"
   ]
  }
 ],
 "metadata": {
  "kernelspec": {
   "display_name": "Python 3 (ipykernel)",
   "language": "python",
   "name": "python3"
  },
  "language_info": {
   "codemirror_mode": {
    "name": "ipython",
    "version": 3
   },
   "file_extension": ".py",
   "mimetype": "text/x-python",
   "name": "python",
   "nbconvert_exporter": "python",
   "pygments_lexer": "ipython3",
   "version": "3.9.9"
  }
 },
 "nbformat": 4,
 "nbformat_minor": 5
}
